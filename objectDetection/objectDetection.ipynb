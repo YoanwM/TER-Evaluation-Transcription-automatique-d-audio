{
 "cells": [
  {
   "cell_type": "code",
   "execution_count": null,
   "metadata": {
    "colab": {
     "base_uri": "https://localhost:8080/"
    },
    "id": "2EbFnXI_lys8",
    "outputId": "ae8902ff-2ddd-4925-fec9-2e0742868139"
   },
   "outputs": [
    {
     "name": "stdout",
     "output_type": "stream",
     "text": [
      "Clonage dans 'yolov5'...\n",
      "remote: Enumerating objects: 12264, done.\u001b[K\n",
      "remote: Counting objects: 100% (35/35), done.\u001b[K\n",
      "remote: Compressing objects: 100% (22/22), done.\u001b[K\n",
      "remote: Total 12264 (delta 18), reused 23 (delta 13), pack-reused 12229\u001b[K\n",
      "Réception d'objets: 100% (12264/12264), 11.95 Mio | 2.97 Mio/s, fait.\n",
      "Résolution des deltas: 100% (8488/8488), fait.\n",
      "/home/yoanwm/Documents/TER/TER-Evaluation-Transcription-automatique-d-audio/objectDetection/yolov5/yolov5/yolov5/yolov5\n",
      "\u001b[31m  Could not find a version that satisfies the requirement matplotlib>=3.2.2 (from -r requirements.txt (line 5)) (from versions: 0.86, 0.86.1, 0.86.2, 0.91.0, 0.91.1, 1.0.1, 1.1.0, 1.1.1, 1.2.0, 1.2.1, 1.3.0, 1.3.1, 1.4.0, 1.4.1rc1, 1.4.1, 1.4.2, 1.4.3, 1.5.0, 1.5.1, 1.5.2, 1.5.3, 2.0.0b1, 2.0.0b2, 2.0.0b3, 2.0.0b4, 2.0.0rc1, 2.0.0rc2, 2.0.0, 2.0.1, 2.0.2, 2.1.0rc1, 2.1.0, 2.1.1, 2.1.2, 2.2.0rc1, 2.2.0, 2.2.2, 2.2.3, 2.2.4, 2.2.5)\u001b[0m\n",
      "\u001b[31mNo matching distribution found for matplotlib>=3.2.2 (from -r requirements.txt (line 5))\u001b[0m\n",
      "Collecting torch\n",
      "  Downloading https://files.pythonhosted.org/packages/46/ca/306bb933a68b888ab1c20ede0342506b85857635f04fb55a56e53065579b/torch-1.4.0-cp27-cp27mu-manylinux1_x86_64.whl (753.4MB)\n",
      "\u001b[K    82% |██████████████████████████▎     | 619.3MB 6.4MB/s eta 0:00:213�██▋         | 533.0MB 18.9MB/s eta 0:00:12"
     ]
    }
   ],
   "source": [
    "!git clone https://github.com/ultralytics/yolov5  # clone\n",
    "%cd yolov5\n",
    "!pip install -qr requirements.txt  # install\n",
    "!pip install torch\n",
    "\n",
    "import torch\n",
    "import utils\n",
    "display = utils.notebook_init()  # checks"
   ]
  },
  {
   "cell_type": "code",
   "execution_count": null,
   "metadata": {
    "id": "DR8k3KO-l6mo"
   },
   "outputs": [],
   "source": [
    "!python detect.py --weights yolov5s.pt --img 640 --conf 0.25 --source test.jpg"
   ]
  }
 ],
 "metadata": {
  "colab": {
   "collapsed_sections": [],
   "name": "Untitled0.ipynb",
   "provenance": []
  },
  "kernelspec": {
   "display_name": "Python 3",
   "language": "python",
   "name": "python3"
  },
  "language_info": {
   "codemirror_mode": {
    "name": "ipython",
    "version": 3
   },
   "file_extension": ".py",
   "mimetype": "text/x-python",
   "name": "python",
   "nbconvert_exporter": "python",
   "pygments_lexer": "ipython3",
   "version": "3.6.9"
  }
 },
 "nbformat": 4,
 "nbformat_minor": 1
}
